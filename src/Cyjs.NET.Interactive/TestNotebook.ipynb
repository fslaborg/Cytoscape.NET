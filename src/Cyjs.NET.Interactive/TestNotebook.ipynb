{
 "cells": [
  {
   "attachments": {},
   "cell_type": "markdown",
   "metadata": {},
   "source": [
    "To reproduce the package, run `./Repack.ps1` in powershell. It will clean your cache in `~/.nuget/packages` and pack the library to `Plotly.NET/pkg` folder, which you should specify below (absolute paths only) in `#i` line.\n",
    "\n",
    "The version of the package is always `0.0.1-dev`."
   ]
  },
  {
   "cell_type": "code",
   "execution_count": 2,
   "metadata": {
    "dotnet_interactive": {
     "language": "fsharp"
    }
   },
   "outputs": [
    {
     "data": {
      "text/html": [
       "<div><div><strong>Restore sources</strong><ul><li><span> C:/Users/schne/source/repos/fslaborg/Cyjs.NET/pkg</span></li></ul></div><div></div><div><strong>Installed Packages</strong><ul><li><span>Cyjs.NET, 0.0.1-dev</span></li><li><span>Cyjs.NET.Interactive, 0.0.1-dev</span></li><li><span>Giraffe.ViewEngine, 1.4.0</span></li><li><span>Plotly.NET, 4.0.0</span></li></ul></div></div>"
      ]
     },
     "metadata": {},
     "output_type": "display_data"
    },
    {
     "data": {
      "text/plain": [
       "Loading extensions from `C:\\Users\\schne\\.nuget\\packages\\cyjs.net.interactive\\0.0.1-dev\\interactive-extensions\\dotnet\\Cyjs.NET.Interactive.dll`"
      ]
     },
     "metadata": {},
     "output_type": "display_data"
    }
   ],
   "source": [
    "// be advised, that you always should set absolute paths for local nuget packages - change this to reflect your own setup\n",
    "#r \"nuget: Plotly.NET\"\n",
    "#r \"nuget: Giraffe.ViewEngine\"\n",
    "#i \"nuget: C:/Users/schne/source/repos/fslaborg/Cyjs.NET/pkg\"\n",
    "#r \"nuget: Cyjs.NET, 0.0.1-dev\"\n",
    "#r \"nuget: Cyjs.NET.Interactive, 0.0.1-dev\""
   ]
  },
  {
   "cell_type": "code",
   "execution_count": 11,
   "metadata": {
    "dotnet_interactive": {
     "language": "fsharp"
    }
   },
   "outputs": [
    {
     "data": {
      "text/html": [
       "<div id=\"ea83f8794c5\" style=\"width:600px; height:600px\"><!-- Plotly chart will be drawn inside this DIV --></div><script type=\"text/javascript\">\r\n",
       "var fsharpCytoscapeRequire = requirejs.config({context:'fsharp-cyjs',paths:{cytoscape:'https://cdnjs.cloudflare.com/ajax/libs/cytoscape/3.24.0/cytoscape.min'}}) || require;\r\n",
       "        \r\n",
       "fsharpCyjsRequire(['cytoscape'], function(cytoscape) {\r\n",
       "    var graphdata = {\"container\":document.getElementById('ea83f8794c5'),\"elements\":[{\"data\":{\"id\":\"n1\",\"label\":\"FsLab\"}},{\"data\":{\"id\":\"n2\",\"label\":\"ML\"}},{\"data\":{\"id\":\"n3\",\"label\":\"Yes\"}},{\"data\":{\"id\":\"e1\",\"source\":\"n1\",\"target\":\"n2\"}},{\"data\":{\"id\":\"e2\",\"source\":\"n2\",\"target\":\"n3\"}}],\"style\":[{\"selector\":\"node\",\"style\":{\"content\":\"data(label)\",\"color\":\"#A00975\"}}],\"layout\":{\"name\":\"random\"}}\r\n",
       "    var cy = cytoscape( graphdata );\r\n",
       "    cy.userZoomingEnabled( false );\r\n",
       "});\r\n",
       "</script>"
      ]
     },
     "metadata": {},
     "output_type": "display_data"
    }
   ],
   "source": [
    "open Cyjs.NET\n",
    "open Elements\n",
    "\n",
    "CyGraph.initEmpty ()\n",
    "|> CyGraph.withElements [\n",
    "        node \"n1\" [ CyParam.label \"FsLab\"  ]\n",
    "        node \"n2\" [ CyParam.label \"ML\" ]\n",
    "        node \"n3\" [ CyParam.label \"Yes\" ]\n",
    "\n",
    "        edge  \"e1\" \"n1\" \"n2\" []\n",
    "        edge  \"e2\" \"n2\" \"n3\" []\n",
    "\n",
    "    ]\n",
    "|> CyGraph.withStyle \"node\"     \n",
    "        [\n",
    "            CyParam.content =. CyParam.label\n",
    "            CyParam.color \"#A00975\"\n",
    "        ]\n",
    "|> CyGraph.withSize(800, 400)"
   ]
  },
  {
   "cell_type": "code",
   "execution_count": 18,
   "metadata": {
    "dotnet_interactive": {
     "language": "html"
    },
    "polyglot_notebook": {
     "kernelName": "html"
    }
   },
   "outputs": [
    {
     "data": {
      "text/html": [
       "<div id='e36b0978007' style=\"width: 600px; height: 600px; background-color:white\"></div>\r\n",
       "<script>\r\n",
       "var fsharpCyjsRequire = \r\n",
       "    requirejs.config({\r\n",
       "        context:'fsharp-cyjs',\r\n",
       "        paths:{cytoscape:'https://cdnjs.cloudflare.com/ajax/libs/cytoscape/3.23.0/cytoscape.min'}\r\n",
       "    }) || require;\r\n",
       "        \r\n",
       "\r\n",
       "fsharpCyjsRequire(['cytoscape'], function(cytoscape) {\r\n",
       "    var graphdata = {\r\n",
       "        container: document.getElementById('e36b0978007'),\r\n",
       "        elements:[\r\n",
       "            {\r\n",
       "                \"data\": {\r\n",
       "                    id: \"n1\",\r\n",
       "                    label: \"FsLab\"\r\n",
       "                }\r\n",
       "            },\r\n",
       "            {\r\n",
       "                data:{\r\n",
       "                    id: \"n2\",\r\n",
       "                    label: \"ML\"\r\n",
       "                }\r\n",
       "            },\r\n",
       "            {\r\n",
       "                data:{\r\n",
       "                    id: \"e1\",\r\n",
       "                    source: \"n1\",\r\n",
       "                    target: \"n2\"\r\n",
       "                }\r\n",
       "            }\r\n",
       "        ],\r\n",
       "        style:[\r\n",
       "            {\r\n",
       "                selector: \"node\",\r\n",
       "                style:{\r\n",
       "                    content: \"data(label)\",\r\n",
       "                    color: \"#A00975\"\r\n",
       "                }\r\n",
       "            }\r\n",
       "        ],\r\n",
       "        layout:{\r\n",
       "            name: \"random\"\r\n",
       "        }\r\n",
       "    }\r\n",
       "    var cy = cytoscape( graphdata );\r\n",
       "    cy.userZoomingEnabled( false );\r\n",
       "});\r\n",
       "</script>"
      ]
     },
     "metadata": {},
     "output_type": "display_data"
    }
   ],
   "source": [
    "<div id='e36b0978007' style=\"width: 600px; height: 600px; background-color:white\"></div>\n",
    "<script>\n",
    "var fsharpCyjsRequire = \n",
    "    requirejs.config({\n",
    "        context:'fsharp-cyjs',\n",
    "        paths:{cytoscape:'https://cdnjs.cloudflare.com/ajax/libs/cytoscape/3.23.0/cytoscape.min'}\n",
    "    }) || require;\n",
    "        \n",
    "\n",
    "fsharpCyjsRequire(['cytoscape'], function(cytoscape) {\n",
    "    var graphdata = {\n",
    "        container: document.getElementById('e36b0978007'),\n",
    "        elements:[\n",
    "            {\n",
    "                \"data\": {\n",
    "                    id: \"n1\",\n",
    "                    label: \"FsLab\"\n",
    "                }\n",
    "            },\n",
    "            {\n",
    "                data:{\n",
    "                    id: \"n2\",\n",
    "                    label: \"ML\"\n",
    "                }\n",
    "            },\n",
    "            {\n",
    "                data:{\n",
    "                    id: \"e1\",\n",
    "                    source: \"n1\",\n",
    "                    target: \"n2\"\n",
    "                }\n",
    "            }\n",
    "        ],\n",
    "        style:[\n",
    "            {\n",
    "                selector: \"node\",\n",
    "                style:{\n",
    "                    content: \"data(label)\",\n",
    "                    color: \"#A00975\"\n",
    "                }\n",
    "            }\n",
    "        ],\n",
    "        layout:{\n",
    "            name: \"random\"\n",
    "        }\n",
    "    }\n",
    "    var cy = cytoscape( graphdata );\n",
    "    cy.userZoomingEnabled( false );\n",
    "});\n",
    "</script>"
   ]
  }
 ],
 "metadata": {
  "kernelspec": {
   "display_name": ".NET (C#)",
   "language": "C#",
   "name": ".net-csharp"
  },
  "language_info": {
   "name": "polyglot-notebook"
  },
  "polyglot_notebook": {
   "kernelInfo": {
    "defaultKernelName": "csharp",
    "items": [
     {
      "aliases": [],
      "name": "csharp"
     },
     {
      "aliases": [
       "frontend"
      ],
      "name": "vscode"
     }
    ]
   }
  }
 },
 "nbformat": 4,
 "nbformat_minor": 2
}
