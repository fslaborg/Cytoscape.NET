
        {
            "cells": [
          {
           "cell_type": "markdown",
           "metadata": {},
           
           "source": ["# More Complex Example Graph\n",
"\n",
"Here, we can look at a more colorful example to understand the functionality of Cyjs.NET. The example is translated from [here](www.w.de)\n",
"to cover different styling capabilities.\n",
"\n",
"### Adding nodes and edges with data\n",
"\n",
"After including the necessary dependancies, we can add the elements with data to our graph.\n",
"Additionaly, the `withClass` function adds a class identifier `(CyParam.cyClass \"questionable\")` to the respective edge.\n",
"This can be used for individual styling, that you will see later...\n",
"\n"]
          }
,
          {
           "cell_type": "code",
           "metadata": {},
            "execution_count": 3, "outputs": [],
           "source": ["open Cyjs.NET\n",
"open Elements\n",
"\n",
"let complexGraph = \n",
"    CyGraph.initEmpty ()\n",
"    |\u003e CyGraph.withElements [\n",
"            node \"j\" [ CyParam.label \"Jerry\"  ; CyParam.weight 65; CyParam.color \"#6FB1FC\"; CyParam.shape \"triangle\"  ]\n",
"            node \"e\" [ CyParam.label \"Elaine\" ; CyParam.weight 45; CyParam.color \"#EDA1ED\"; CyParam.shape \"ellipse\"  ]\n",
"            node \"k\" [ CyParam.label \"Kramer\" ; CyParam.weight 75; CyParam.color \"#86B342\"; CyParam.shape \"octagon\"  ]\n",
"            node \"g\" [ CyParam.label \"George\" ; CyParam.weight 70; CyParam.color \"#F5A45D\"; CyParam.shape \"rectangle\"  ]\n",
"\n",
"            edge  \"1\" \"j\" \"e\" [CyParam.color \"#6FB1FC\"; CyParam.weight 90]\n",
"            edge  \"2\" \"j\" \"e\" [CyParam.color \"#6FB1FC\"; CyParam.weight 120]\n",
"            edge  \"3\" \"j\" \"k\" [CyParam.color \"#6FB1FC\"; CyParam.weight 70]\n",
"            edge  \"4\" \"j\" \"g\" [CyParam.color \"#6FB1FC\"; CyParam.weight 80]\n",
"     \n",
"            edge  \"5\" \"e\" \"j\" [CyParam.color \"#EDA1ED\"; CyParam.weight 95]\n",
"            edge  \"6\" \"e\" \"k\" [CyParam.color \"#EDA1ED\"; CyParam.weight 60] \n",
"                |\u003e withClass (CyParam.cyClass \"questionable\") // classes: \u0027questionable\u0027\n",
"             \n",
"            edge  \"7\" \"k\" \"j\" [CyParam.color \"#86B342\"; CyParam.weight 100]\n",
"            edge  \"8\" \"k\" \"e\" [CyParam.color \"#86B342\"; CyParam.weight 100]\n",
"            edge  \"9\" \"k\" \"g\" [CyParam.color \"#86B342\"; CyParam.weight 100]\n",
"     \n",
"            edge \"10\" \"g\" \"j\" [CyParam.color \"#F5A45D\"; CyParam.weight 90]\n",
"            edge \"11\" \"g\" \"g\" [CyParam.color \"#F5A45D\"; CyParam.weight 90]\n",
"            edge \"12\" \"g\" \"g\" [CyParam.color \"#F5A45D\"; CyParam.weight 90]\n",
"            edge \"13\" \"g\" \"g\" [CyParam.color \"#F5A45D\"; CyParam.weight 90]\n",
"\n",
"        ]\n"]
          }
,
          {
           "cell_type": "markdown",
           "metadata": {},
           
           "source": ["### Styling nodes\n",
"\n",
"Using the `withStyle` function we use a selector string (here: node) to specify the target that we want to style.\n",
"Second, we provide a list of style paramerts `CyStyleParam` to set the design.\n",
"**attention** Style mapper `=.` specifies a direct mapping or a linear mapping `\u003c=.` to an element’s data field.\n",
"\n"]
          }
,
          {
           "cell_type": "code",
           "metadata": {},
            "execution_count": 4, "outputs": [],
           "source": ["let cgStylingNodes = \n",
"    complexGraph\n",
"    |\u003e CyGraph.withStyle \"node\"     \n",
"            [\n",
"                CyParam.shape =. CyParam.shape\n",
"                // Style mapper can also be used untyped in string form: CyParam.shape \"data(shape)\"\n",
"                CyParam.width \u003c=. (CyParam.weight, 40, 80, 20, 60)\n",
"                // A linear style mapper like this: CyParam.width \"mapData(weight, 40, 80, 20, 60)\"\n",
"                CyParam.content =. CyParam.label\n",
"                CyParam.Text.Align.center\n",
"                CyParam.Text.Outline.width 2\n",
"                CyParam.Text.Outline.color =. CyParam.color  //=. CyParam.color\n",
"                CyParam.Background.color   =. CyParam.color  //=. CyParam.color\n",
"                CyParam.color \"#fff\"\n",
"            ]  \n"]
          }
,
          {
           "cell_type": "markdown",
           "metadata": {},
           
           "source": ["### Interactivity\n",
"\n",
"Here, the active selector `:selected` is used to select and style the activly selected node.\n",
"\n"]
          }
,
          {
           "cell_type": "code",
           "metadata": {},
            "execution_count": 5, "outputs": [],
           "source": ["let cgInteractivity =\n",
"    cgStylingNodes\n",
"    |\u003e CyGraph.withStyle \":selected\"     \n",
"            [\n",
"                CyParam.Border.width 3\n",
"                CyParam.Border.color \"#333\"\n",
"            ]\n"]
          }
,
          {
           "cell_type": "markdown",
           "metadata": {},
           
           "source": ["### Styling edges\n",
"\n",
"Styling the edges is analogous to adapting the node style.\n",
"\n"]
          }
,
          {
           "cell_type": "code",
           "metadata": {},
            "execution_count": 6, "outputs": [],
           "source": ["let cgStylingEdges = \n",
"    cgInteractivity\n",
"    |\u003e CyGraph.withStyle \"edge\"     \n",
"            [\n",
"                CyParam.Curve.style \"bezier\"\n",
"                CyParam.opacity 0.666\n",
"                CyParam.width \u003c=. (CyParam.weight, 70, 100, 2, 6)\n",
"                CyParam.Target.Arrow.shape \"triangle\"\n",
"                CyParam.Source.Arrow.shape \"circle\"\n",
"                CyParam.Line.color =. CyParam.color\n",
"                CyParam.Target.Arrow.color =. CyParam.color\n",
"                CyParam.Source.Arrow.color =. CyParam.color\n",
"            ]\n"]
          }
,
          {
           "cell_type": "markdown",
           "metadata": {},
           
           "source": ["### Edge styling with class identifier\n",
"\n",
"The class identifier `questionable` can be used to select and style the respective edge(s).\n",
"\n"]
          }
,
          {
           "cell_type": "code",
           "metadata": {},
            "execution_count": 7, "outputs": [],
           "source": ["let cgStylingEdgesWci = \n",
"    cgStylingEdges\n",
"    |\u003e CyGraph.withStyle \"edge.questionable\"     \n",
"            [\n",
"                CyParam.Line.style \"dotted\"\n",
"                CyParam.Target.Arrow.shape \"diamond\"\n",
"            ]\n",
"    |\u003e CyGraph.withStyle \".faded\"     \n",
"            [\n",
"                CyParam.opacity 0.666\n",
"                CyParam.Text.opacity 0\n",
"            ]\n"]
          }
,
          {
           "cell_type": "markdown",
           "metadata": {},
           
           "source": ["### Using a graph layout\n",
"\n",
"To draw the graph nicly, `withLayout` applies CoSE (Compound graph Spring Embedder) layout, an algorithm based\n",
"on the traditional force-directed layout scheme with extensions to handle multi-level nesting, edges between nodes\n",
"of arbitrary nesting level, varying node sizes, and other possible application-specific constraints.\n",
"\n",
"Layouts can be specified with `LayoutOptions` applied. Here, we use `ComponentSpacing`, which adds\n",
"extra spacing between components in non-compound graphs.\n",
"\n"]
          }
,
          {
           "cell_type": "code",
           "metadata": {},
            "execution_count": 8, "outputs": [],
           "source": ["let cgLayout = \n",
"    cgStylingEdgesWci\n",
"    |\u003e CyGraph.withLayout (\n",
"        Layout.initCose (Layout.LayoutOptions.Cose(ComponentSpacing=40)) \n",
"        )  \n",
"    |\u003e CyGraph.withSize(800, 800) \n"]
          }
,
          {
           "cell_type": "code",
           "metadata": {},
            "execution_count": null, "outputs": [],
           "source": ["cgLayout\n",
"|\u003e CyGraph.show\n"]
          }
,
          {
           "cell_type": "markdown",
           "metadata": {},
           
           "source": ["And here is what happened after applying the styles from above:\n",
"\n",
"\u003c!DOCTYPE html\u003e\n",
"\u003chtml\u003e\n",
"\u003chead\u003e\n",
"\u003cscript src=\"https://cdnjs.cloudflare.com/ajax/libs/cytoscape/3.18.0/cytoscape.min.js\"\u003e\u003c/script\u003e\n",
"\u003c/head\u003e\n",
"\u003cbody\u003e \u003cstyle\u003e#e3f50b2e606 { width: 800px; height: 800px; display: block } \u003c/style\u003e\n",
"\u003cdiv id=\"e3f50b2e606\"\u003e\u003c/div\u003e\n",
"\u003cscript type=\"text/javascript\"\u003e\n",
"\n",
"            var renderCyjs_bb49259f3aed4335ae4abc30adf488e0 = function() {\n",
"            var fsharpCyjsRequire = requirejs.config({context:\u0027fsharp-cyjs\u0027,paths:{cyjs:\u0027https://cdnjs.cloudflare.com/ajax/libs/cytoscape/3.18.0/cytoscape.min\u0027}}) || require;\n",
"            fsharpCyjsRequire([\u0027cyjs\u0027], function(Cyjs) {\n",
"\n",
"            var graphdata = {\"container\":document.getElementById(\u0027e3f50b2e606\u0027),\"elements\":[{\"data\":{\"id\":\"j\",\"label\":\"Jerry\",\"weight\":65,\"color\":\"#6FB1FC\",\"shape\":\"triangle\"}},{\"data\":{\"id\":\"e\",\"label\":\"Elaine\",\"weight\":45,\"color\":\"#EDA1ED\",\"shape\":\"ellipse\"}},{\"data\":{\"id\":\"k\",\"label\":\"Kramer\",\"weight\":75,\"color\":\"#86B342\",\"shape\":\"octagon\"}},{\"data\":{\"id\":\"g\",\"label\":\"George\",\"weight\":70,\"color\":\"#F5A45D\",\"shape\":\"rectangle\"}},{\"data\":{\"id\":\"1\",\"source\":\"j\",\"target\":\"e\",\"color\":\"#6FB1FC\",\"weight\":90}},{\"data\":{\"id\":\"2\",\"source\":\"j\",\"target\":\"e\",\"color\":\"#6FB1FC\",\"weight\":120}},{\"data\":{\"id\":\"3\",\"source\":\"j\",\"target\":\"k\",\"color\":\"#6FB1FC\",\"weight\":70}},{\"data\":{\"id\":\"4\",\"source\":\"j\",\"target\":\"g\",\"color\":\"#6FB1FC\",\"weight\":80}},{\"data\":{\"id\":\"5\",\"source\":\"e\",\"target\":\"j\",\"color\":\"#EDA1ED\",\"weight\":95}},{\"data\":{\"id\":\"6\",\"source\":\"e\",\"target\":\"k\",\"color\":\"#EDA1ED\",\"weight\":60},\"classes\":[\"questionable\"]},{\"data\":{\"id\":\"7\",\"source\":\"k\",\"target\":\"j\",\"color\":\"#86B342\",\"weight\":100}},{\"data\":{\"id\":\"8\",\"source\":\"k\",\"target\":\"e\",\"color\":\"#86B342\",\"weight\":100}},{\"data\":{\"id\":\"9\",\"source\":\"k\",\"target\":\"g\",\"color\":\"#86B342\",\"weight\":100}},{\"data\":{\"id\":\"10\",\"source\":\"g\",\"target\":\"j\",\"color\":\"#F5A45D\",\"weight\":90}},{\"data\":{\"id\":\"11\",\"source\":\"g\",\"target\":\"g\",\"color\":\"#F5A45D\",\"weight\":90}},{\"data\":{\"id\":\"12\",\"source\":\"g\",\"target\":\"g\",\"color\":\"#F5A45D\",\"weight\":90}},{\"data\":{\"id\":\"13\",\"source\":\"g\",\"target\":\"g\",\"color\":\"#F5A45D\",\"weight\":90}}],\"style\":[{\"selector\":\"node\",\"style\":{\"shape\":\"data(shape)\",\"width\":\"mapData(weight,40,80,20,60)\",\"content\":\"data(label)\",\"text-valign\":\"center\",\"text-outline-width\":2,\"text-outline-color\":\"data(color)\",\"background-color\":\"data(color)\",\"color\":\"#fff\"}},{\"selector\":\":selected\",\"style\":{\"border-width\":3,\"border-color\":\"#333\"}},{\"selector\":\"edge\",\"style\":{\"curve-style\":\"bezier\",\"opacity\":0.666,\"width\":\"mapData(weight,70,100,2,6)\",\"target-arrow-shape\":\"triangle\",\"source-arrow-shape\":\"circle\",\"line-color\":\"data(color)\",\"target-arrow-color\":\"data(color)\",\"source-arrow-color\":\"data(color)\"}},{\"selector\":\"edge.questionable\",\"style\":{\"border-style\":\"dotted\",\"target-arrow-shape\":\"diamond\"}},{\"selector\":\".faded\",\"style\":{\"opacity\":0.666,\"text-opacity\":0}}],\"layout\":{\"name\":\"cose\",\"componentSpacing\":40}}\n",
"            var cy = cytoscape( graphdata );\n",
"            cy.userZoomingEnabled( false );\n",
"            \n",
"});\n",
"            };\n",
"            if ((typeof(requirejs) !==  typeof(Function)) || (typeof(requirejs.config) !== typeof(Function))) {\n",
"                var script = document.createElement(\"script\");\n",
"                script.setAttribute(\"src\", \"https://cdnjs.cloudflare.com/ajax/libs/require.js/2.3.6/require.min.js\");\n",
"                script.onload = function(){\n",
"                    renderCyjs_bb49259f3aed4335ae4abc30adf488e0();\n",
"                };\n",
"                document.getElementsByTagName(\"head\")[0].appendChild(script);\n",
"            }\n",
"            else {\n",
"                renderCyjs_bb49259f3aed4335ae4abc30adf488e0();\n",
"            }\n",
"\u003c/script\u003e\n",
" \u003c/body\u003e\n",
"\u003c/html\u003e\n",
"\n"]
          }],
            "metadata": {
            "kernelspec": {"display_name": ".NET (F#)", "language": "F#", "name": ".net-fsharp"},
            "langauge_info": {
        "file_extension": ".fs",
        "mimetype": "text/x-fsharp",
        "name": "C#",
        "pygments_lexer": "fsharp",
        "version": "4.5"
        }
        },
            "nbformat": 4,
            "nbformat_minor": 1
        }
        

