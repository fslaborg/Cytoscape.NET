
        {
            "cells": [
          {
           "cell_type": "code",
           "metadata": {},
            "execution_count": null, "outputs": [],
           "source": ["#r \"nuget: Cytoscape.NET, 0.2.0\"\n"]
          }
,
          {
           "cell_type": "markdown",
           "metadata": {},
           
           "source": ["# Cytoscape.NET\n",
"\n",
"[![Binder](https://mybinder.org/badge_logo.svg)](https://mybinder.org/v2/gh/fslaborg/Cytoscape.NET/gh-pages?filepath=index.ipynb)\n",
"\n",
"Cytoscape.NET is an interface for Cytoscape.js written in F# to visualiz complex networks and integrate these with any type of attribute data.\n",
"\n",
"### Table of contents\n",
"\n",
"* [Installation](#Installation)\n",
"\n",
"  * [For applications and libraries](#For-applications-and-libraries)\n",
"  \n",
"  * [For scripting](#For-scripting)\n",
"  \n",
"\n",
"* [Overview](#Overview)\n",
"\n",
"  * [Basics](#Basics)\n",
"  \n",
"    * [Initializing a graph](#Initializing-a-graph)\n",
"    \n",
"    * [Attaching nodes and edges](#Attaching-nodes-and-edges)\n",
"    \n",
"    * [Styling a graph](#Styling-a-graph)\n",
"    \n",
"    * [Displaying a graph](#Displaying-a-graph)\n",
"    \n",
"  \n",
"\n",
"* [Contributing and copyright](#Contributing-and-copyright)\n",
"\n",
"# Installation\n",
"\n",
"## Installation\n",
"\n",
"The following examples show how easy it is to start working with Cytoscape.NET.\n",
"\n",
"### For applications and libraries\n",
"\n",
"You can get all Cytoscape.NET packages from nuget at [nuget page](https://www.nuget.org/packages/Cytoscape.NET/).\n",
"\n",
"* dotnet CLI\n",
"\n",
"```shell\n",
"dotnet add package Cytoscape.NET --version \u003cdesired-version-here\u003e\n",
"```\n",
"\n",
"Or add the package reference directly to your `.*proj` file:\n",
"\n",
"```\n",
"\u003cPackageReference Include=\"Cytoscape.NET\" Version=\"\u003cdesired-version-here\u003e\" /\u003e\n",
"```\n",
"\n",
"### For scripting\n",
"\n",
"You can include the package via an inline package reference:\n",
"\n",
"```\n",
"#r \"nuget: Cytoscape.NET, \u003cdesired-version-here\u003e\"\n",
"```\n",
"\n",
"# Overview\n",
"\n",
"## Basics\n",
"\n",
"The general design philosophy of Cytoscape.NET implements the following visualization flow:\n",
"\n",
"* **initialize** a `Cytoscape` object by using the `CyGraph.initEmpty` function.\n",
"\n",
"* **attach** elements e.g. notes, edges and data to visulize and further\n",
"\n",
"* **style** the graph with fine-grained control, e.g. by setting labels, color, etc.\n",
"\n",
"* **display** (in the browser or as cell result in a notebook) or save the graph (comming soon)\n",
"\n",
"### Initializing a graph\n",
"\n",
"The `CyGraph` module contains the `CyGraph.initEmpty` function to create an empty graph.\n",
"You can therefore initialize a cytoscape graph like this:\n",
"\n"]
          }
,
          {
           "cell_type": "code",
           "metadata": {},
            "execution_count": 3, "outputs": [
          {
           "data": {
            "text/html": ["\u003cnull\u003e"]
        },
           "execution_count": 3,
           "metadata": {},
           "output_type": "execute_result"
          }],
           "source": ["open Cytoscape.NET\n",
"let myFirstGraph = \n",
"    CyGraph.initEmpty ()\n"]
          }
,
          {
           "cell_type": "code",
           "metadata": {},
            "execution_count": 4, "outputs": [],
           "source": ["myFirstGraph\n"]
          }
,
          {
           "cell_type": "markdown",
           "metadata": {},
           
           "source": ["### Attach nodes and edges\n",
"\n",
"The `Elements` module contains the `node` and `edge` functions to create the respective element.\n",
"Node and edges can be decorated with data as `CyStyleParam list`\n",
"You can therefore create a cytoscape graph with two nodes and an edge like this:\n",
"\n"]
          }
,
          {
           "cell_type": "code",
           "metadata": {},
            "execution_count": 5, "outputs": [],
           "source": ["open Elements\n",
"\n",
"let myGraph = \n",
"    CyGraph.initEmpty ()\n",
"    |\u003e CyGraph.withElements [\n",
"            node \"n1\" [ CyParam.label \"FsLab\"  ]\n",
"            node \"n2\" [ CyParam.label \"ML\" ]\n",
" \n",
"            edge  \"e1\" \"n1\" \"n2\" []\n",
"        ]\n"]
          }
,
          {
           "cell_type": "markdown",
           "metadata": {},
           
           "source": ["### Styling a graph\n",
"\n",
"Styling functions are generally the `CyGraph.with*` naming convention. The following styling example does:\n",
"\n",
"* add two nodes including a text label\n",
"\n",
"* add an edge without any additional data\n",
"\n",
"* styles the nodes with color and content via `CyGraph.withStyle`\n",
"\n",
"* sets the graph size to 800 x 400 pixels via `CyGraph.withSize`\n",
"\n"]
          }
,
          {
           "cell_type": "code",
           "metadata": {},
            "execution_count": 6, "outputs": [],
           "source": ["let myFirstStyledGraph =     \n",
"    CyGraph.initEmpty ()\n",
"    |\u003e CyGraph.withElements [\n",
"            node \"n1\" [ CyParam.label \"FsLab\"  ]\n",
"            node \"n2\" [ CyParam.label \"ML\" ]\n",
" \n",
"            edge  \"e1\" \"n1\" \"n2\" []\n",
" \n",
"        ]\n",
"    |\u003e CyGraph.withStyle \"node\"     \n",
"            [\n",
"                CyParam.content =. CyParam.label\n",
"                CyParam.color \"#A00975\"\n",
"            ]\n",
"    |\u003e CyGraph.withSize(800, 400)  \n"]
          }
,
          {
           "cell_type": "markdown",
           "metadata": {},
           
           "source": ["**Attention:** `=.` is a styling mapper and allows to pass data from different sources into the layout.\n",
"Here the label attached to each node is rendered as content.\n",
"\n",
"### Displaying a graph in the browser\n",
"\n",
"The `CyGraph.show` function will open a browser window and render the input graph there.\n",
"\n"]
          }
,
          {
           "cell_type": "code",
           "metadata": {},
            "execution_count": null, "outputs": [],
           "source": ["myGraph\n",
"|\u003e CyGraph.show\n"]
          }
,
          {
           "cell_type": "markdown",
           "metadata": {},
           
           "source": ["Should render this chart in your brower:\n",
"\n",
"\u003cdiv id=\"e27fe3637fd\" style=\"width:600px; height:600px\"\u003e\u003c!-- Cytoscape graph will be drawn inside this DIV --\u003e\u003c/div\u003e\u003cscript type=\"text/javascript\"\u003e\n",
"    var graphdata = {\"container\":document.getElementById(\u0027e27fe3637fd\u0027),\"elements\":[{\"data\":{\"id\":\"n1\",\"label\":\"FsLab\"}},{\"data\":{\"id\":\"n2\",\"label\":\"ML\"}},{\"data\":{\"id\":\"e1\",\"source\":\"n1\",\"target\":\"n2\"}}],\"style\":[],\"layout\":{\"name\":\"random\"},\"zoom\":{\"level\":null,\"zoomingEnabled\":false}}\n",
"    var cy = cytoscape( graphdata );\n",
"    cy.userZoomingEnabled( false );\n",
"    \u003c/script\u003e\n",
"\n"]
          }
,
          {
           "cell_type": "code",
           "metadata": {},
            "execution_count": null, "outputs": [],
           "source": ["myFirstStyledGraph\n",
"|\u003e CyGraph.show\n"]
          }
,
          {
           "cell_type": "markdown",
           "metadata": {},
           
           "source": ["And here is what happened after applying the styles from above:\n",
"\n",
"\u003cdiv id=\"e0201fbdaa2\" style=\"width:600px; height:600px\"\u003e\u003c!-- Cytoscape graph will be drawn inside this DIV --\u003e\u003c/div\u003e\u003cscript type=\"text/javascript\"\u003e\n",
"    var graphdata = {\"container\":document.getElementById(\u0027e0201fbdaa2\u0027),\"elements\":[{\"data\":{\"id\":\"n1\",\"label\":\"FsLab\"}},{\"data\":{\"id\":\"n2\",\"label\":\"ML\"}},{\"data\":{\"id\":\"e1\",\"source\":\"n1\",\"target\":\"n2\"}}],\"style\":[{\"selector\":\"node\",\"style\":{\"content\":\"data(label)\",\"color\":\"#A00975\"}}],\"layout\":{\"name\":\"random\"},\"zoom\":{\"level\":null,\"zoomingEnabled\":false}}\n",
"    var cy = cytoscape( graphdata );\n",
"    cy.userZoomingEnabled( false );\n",
"    \u003c/script\u003e\n",
"\n",
"# Contributing and copyright\n",
"\n",
"The project is hosted on [GitHub](https://github.com/fslaborg/Cytoscape.NET) where you can [report issues](https://github.com/fslaborg/Cytoscape.NET/issues), fork\n",
"the project and submit pull requests. If you\u0027re adding a new public API, please also\n",
"consider adding [samples](https://github.com/fslaborg/Cytoscape.NET/tree/master/docs/content) that can be turned into a documentation. You might\n",
"also want to read the [library design notes](https://github.com/fslaborg/Cytoscape.NET/blob/master/README.md) to understand how it works.\n",
"\n",
"The library is available under Public Domain license, which allows modification and\n",
"redistribution for both commercial and non-commercial purposes. For more information see the\n",
"[License file](https://github.com/fslaborg/Cytoscape.NET/blob/master/LICENSE.txt) in the GitHub repository.\n",
"\n"]
          }],
            "metadata": {
            "kernelspec": {"display_name": ".NET (F#)", "language": "F#", "name": ".net-fsharp"},
            "langauge_info": {
        "file_extension": ".fs",
        "mimetype": "text/x-fsharp",
        "name": "C#",
        "pygments_lexer": "fsharp",
        "version": "4.5"
        }
        },
            "nbformat": 4,
            "nbformat_minor": 1
        }
        

