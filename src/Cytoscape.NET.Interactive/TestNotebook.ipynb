{
 "cells": [
  {
   "attachments": {},
   "cell_type": "markdown",
   "metadata": {},
   "source": [
    "To reproduce the package, run `./Repack.ps1` in powershell. It will clean your cache in `~/.nuget/packages` and pack the library to `Plotly.NET/pkg` folder, which you should specify below (absolute paths only) in `#i` line.\n",
    "\n",
    "The version of the package is always `0.0.1-dev`."
   ]
  },
  {
   "cell_type": "code",
   "execution_count": 1,
   "metadata": {
    "dotnet_interactive": {
     "language": "fsharp"
    }
   },
   "outputs": [
    {
     "data": {
      "text/html": [
       "<div><div><strong>Restore sources</strong><ul><li><span> C:/Users/schne/source/repos/fslaborg/Cytoscape.NET/pkg</span></li></ul></div><div></div><div><strong>Installed Packages</strong><ul><li><span>Cytoscape.NET, 0.0.1-dev</span></li><li><span>Cytoscape.NET.Interactive, 0.0.1-dev</span></li><li><span>Giraffe.ViewEngine, 1.4.0</span></li><li><span>Plotly.NET, 4.0.0</span></li></ul></div></div>"
      ]
     },
     "metadata": {},
     "output_type": "display_data"
    },
    {
     "data": {
      "text/plain": [
       "Loading extensions from `C:\\Users\\schne\\.nuget\\packages\\cytoscape.net.interactive\\0.0.1-dev\\interactive-extensions\\dotnet\\Cytoscape.NET.Interactive.dll`"
      ]
     },
     "metadata": {},
     "output_type": "display_data"
    }
   ],
   "source": [
    "// be advised, that you always should set absolute paths for local nuget packages - change this to reflect your own setup\n",
    "#r \"nuget: Plotly.NET\"\n",
    "#r \"nuget: Giraffe.ViewEngine\"\n",
    "#i \"nuget: C:/Users/schne/source/repos/fslaborg/Cytoscape.NET/pkg\"\n",
    "#r \"nuget: Cytoscape.NET, 0.0.1-dev\"\n",
    "#r \"nuget: Cytoscape.NET.Interactive, 0.0.1-dev\""
   ]
  },
  {
   "cell_type": "code",
   "execution_count": 2,
   "metadata": {
    "dotnet_interactive": {
     "language": "fsharp"
    }
   },
   "outputs": [
    {
     "data": {
      "text/html": [
       "<div id=\"e75e3aa8ea0\" style=\"width:600px; height:600px\"><!-- Cytoscape graph will be drawn inside this DIV --></div><script type=\"text/javascript\">\r\n",
       "    var fsharpCytoscapeRequire = requirejs.config({context:'cytoscape-net',paths:{cytoscape:'https://cdnjs.cloudflare.com/ajax/libs/cytoscape/3.24.0/cytoscape.min'}}) || require;\r\n",
       "        \r\n",
       "    fsharpCytoscapeRequire(['cytoscape'], function(cytoscape) {\r\n",
       "        var graphdata = {\"container\":document.getElementById('e75e3aa8ea0'),\"elements\":[{\"data\":{\"id\":\"n1\",\"label\":\"FsLab\"}},{\"data\":{\"id\":\"n2\",\"label\":\"ML\"}},{\"data\":{\"id\":\"n3\",\"label\":\"Yes\"}},{\"data\":{\"id\":\"e1\",\"source\":\"n1\",\"target\":\"n2\"}},{\"data\":{\"id\":\"e2\",\"source\":\"n2\",\"target\":\"n3\"}}],\"style\":[{\"selector\":\"node\",\"style\":{\"content\":\"data(label)\",\"color\":\"#A00975\"}}],\"layout\":{\"name\":\"random\"}}\r\n",
       "        var cy = cytoscape( graphdata );\r\n",
       "        cy.userZoomingEnabled( false );\r\n",
       "    });\r\n",
       "    </script>"
      ]
     },
     "metadata": {},
     "output_type": "display_data"
    }
   ],
   "source": [
    "open Cytoscape.NET\n",
    "open Elements\n",
    "\n",
    "CyGraph.initEmpty ()\n",
    "|> CyGraph.withElements [\n",
    "        node \"n1\" [ CyParam.label \"FsLab\"  ]\n",
    "        node \"n2\" [ CyParam.label \"ML\" ]\n",
    "        node \"n3\" [ CyParam.label \"Yes\" ]\n",
    "\n",
    "        edge  \"e1\" \"n1\" \"n2\" []\n",
    "        edge  \"e2\" \"n2\" \"n3\" []\n",
    "\n",
    "    ]\n",
    "|> CyGraph.withStyle \"node\"     \n",
    "        [\n",
    "            CyParam.content =. CyParam.label\n",
    "            CyParam.color \"#A00975\"\n",
    "        ]"
   ]
  }
 ],
 "metadata": {
  "kernelspec": {
   "display_name": ".NET (C#)",
   "language": "C#",
   "name": ".net-csharp"
  },
  "language_info": {
   "name": "polyglot-notebook"
  },
  "polyglot_notebook": {
   "kernelInfo": {
    "defaultKernelName": "csharp",
    "items": [
     {
      "aliases": [],
      "name": "csharp"
     },
     {
      "aliases": [
       "frontend"
      ],
      "name": "vscode"
     }
    ]
   }
  }
 },
 "nbformat": 4,
 "nbformat_minor": 2
}
